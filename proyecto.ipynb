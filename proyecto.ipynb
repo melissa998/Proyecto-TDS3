{
 "cells": [
  {
   "cell_type": "markdown",
   "metadata": {},
   "source": [
    "### Reconocimiento y clasificación de sonidos de disparos y explosiones mediante un algoritmo de inteligencia computacional.  \n",
    "\n",
    "##### Melissa Osorno\n",
    "##### Yeison Mauricio Muñoz\n",
    "    \n",
    "    "
   ]
  },
  {
   "cell_type": "markdown",
   "metadata": {},
   "source": [
    "#### Estado del Arte\n",
    "\n",
    "Hacia inicios del siglo XXI la investigación de eventos acústicos de situaciones peligrosas, se había basado principalmente en el procesado de señales de audio y el reconocimiento de patrones haciendo uso de clasificadores tradicionales estadísticos, como los HMM (Modelos de Markov ocultos) y los GMM (modelos de mezcla gaussianos) [8] [9] [10] ya que generaban un buen nivel de desempeño en condiciones controladas y representaban un avance en el análisis de datos, pero presentan desventaja cuando hay presencia de ruido acústico de fondo interferente. Con el pasar de los años y el desarrollo de la tecnología y la computación se abrió paso a la inteligencia artificial y el análisis de datos se volvió más sofisticado. El aprendizaje automático tomo mucha más fuerza y actualmente es un campo de investigación a nivel mundial sin dejar a un lado el pre procesamiento de audio y la extracción de características como parte fundamental para una buena clasificación y la automatización del análisis de datos. \n",
    "\n",
    "\n",
    "Es común que inicialmente se le haga un procesamiento a la señal de manera que sea apta para el proceso de extracción de características y de clasificación, la señal se normaliza en amplitud y se segmenta en pequeños tramos de tiempo del orden de milisegundos con el fin de realizar un análisis mucho más preciso. En la extracción de características se observa una amplia tendencia al uso de los coeficientes cepstrales de Mel y sus respectivas bandas de energía [1] [2] [4] [5] [7], aunque estos tienen un enfoque muy particular al análisis del habla y rasgos prosódicos, han demostrado que son de gran utilidad para extraer características en señales impulsivas como las que se trataran en este trabajo. También sobresale el uso de características espectrales y temporales [2] [4] [5] [8] para obtener información en todos los dominios como audio spectrum centroid, audio spectrum spread, audio spectrum envelope, spectral flatness measure, zero crossing rate y la energía espectral.\n",
    "\n",
    "Los datos que serán examinados en el presente trabajo corresponden a sonidos ambientales con énfasis en eventos acústicos de eventos “peligrosos” o poco comunes tales como sonidos de explosiones y disparos, la literatura nos muestra que ya se ha trabajado este tipo de problema desde el área de la inteligencia artificial.\n",
    "\n",
    "La tarea de la clasificación es abordada desde varios algoritmos principales, el primero y más común son las redes neuronales con sus derivaciones, donde se pretende replicar el funcionamiento y la estructura de las redes neuronales biológicas. En el trabajo realizado por Emre [1] se propone la detección de eventos de sonidos peligrosos usando una red neuronal convolucional recurrente, por sus siglas en ingles CRNN, el clasificador se encarga de hallar la probabilidad de la presencia de una clase por cada segmento de señal analizado y calcula el error, separando de esta manera las diferentes clases de sonidos, mientras que Lim [3] utiliza una CRNN en 1D con unidades de memoria de corto plazo para clasificar eventos pocos comunes. El sistema implementado por Lim obtuvo una tasa de error muy baja realizando una serie de comparaciones en una cada de las validaciones, donde se cambiaba el conjunto de datos de entrenamiento y de prueba continuamente, la mejor precisión se obtuvo clasificando sonidos de cristales, para la clasificación especifica de disparos de obtuvo una tasa de error de 0,16 en la etapa de desarrollo, en la etapa de evaluación un tasa de error de 0,19. Según Lim el sonido de los disparos representa un impulso con reverberaciones y por esto es el más difícil de identificar pues este también varía según el tipo de arma. Otra derivación de las redes neuronales es utilizada por Haomin [8] presenta un método robusto al ruido basado en una red neuronal convolucional, por sus siglas en ingles CNN combinada con la energía asociada a un espectrograma, este método implementado permite que haya un buen desempeño aun en presencia de ruido de fondo ya que la función de imagen de espectrograma desarrollada permite tener una precisión de aproximadamente 87% con respecto al número de fotogramas utilizados (entre 16 y 48). También la  resolución de frecuencia la cuál define el número de bandas de frecuencia que hay en una imagen tuvo un papel importante; por medio del análisis del rendimiento de la misma, cuando se llegó a un numero de 52 bandas (en condiciones de ruido y condiciones “limpias”) se alcanzó la mejor precisión de 93.37%. Por otra parte Karol J Piczak [7] también trabajó con una CNN concluyendo que es importante la resolución de frecuencia de la entrada pero también los cambios que sufre una señal en el tiempo influyen en la detección de eventos. \n",
    "\n",
    "\n",
    "El segundo tipo de algoritmo usado y no menos común que el primero, son las máquinas de soporte vectorial, por sus siglas en ingles SVM. El método se basa en la separación de puntos en un espacio por medio de un hiperplano, así a medida que se ingresan nuevas muestras de entrenamiento o prueba, el algoritmo las separa según su clase. Varios autores han usado este método obteniendo muy buenos resultados en la tarea de clasificación de eventos sonoros, Lopatka [2] usa una SVM para detectar, clasificar y localizar sonidos que separo en 4 segmentos: gritos, cristales rotos, explosiones y disparos en ambientes controlados de tráfico, fiestas, estaciones de trenes e interiores todo con el fin de clasificar si un sonido es amenazante o no. Para cada una de las finalidades, detección, clasificación y localización usa una técnica diferente. El proceso de detección lo clasifica dependiendo del tipo de señal que ingrese: si la señal es un impulso repentino, un detector de impulsos, si la señal es de habla o de gritos usa un detector de voz que analiza la armonía de la señal, si la señal presenta varios cambios con el transcurrir del tiempo se usa un detector de varianza y finalmente un detector de espectro cuando se presenta un sonido anormal. Este método obtuvo un desempeño de 87.7%, logrando clasificar de manera correcta 610  de un total de 695 eventos. De la misma manera Aguirre Martin [5] en su amplio trabajo “Desarrollo y Análisis de Clasificadores de Audio”  muestra de manera general todo el proceso de análisis de señales sonoras utilizando una base de datos de “ruidos urbanos”, desde su pre procesamiento, hasta la etapa de clasificación donde realiza una comparación del rendimiento y eficacia de los algoritmos computacionales supervisados Random Forest, SVM Y k-NN. En cada uno de sus capítulos brinda una explicación de ¿Cómo?, ¿Por qué? y ¿para qué? se usan determinado métodos, detectores y algoritmos. Aguirre concluye que una buena clasificación dependerá principalmente de la base datos, ya que esta permite el entrenamiento de máquina, si esta tiene muchas muestras con ruido será un factor de dificultad al momento de clasificar pero es precisamente el ruido lo que hace que cada prueba y resultado tenga el mayor análogo con situaciones y sonidos de la vida real. Dentro de este trabajo, Random Forest resulto ser el algoritmo con mejor desempeño con un 68.84%.\n",
    "\n",
    "Como método alternativo Bag of Words [4] es un algoritmo de inteligencia artificial que también ha sido utilizado para abordar el problema principal de la detección de audio para aplicaciones de vigilancia, sin embargo no hay mucha inclinación hacia el uso de este método.\n",
    "\n",
    "Mediante la investigación del desarrollo científico y tecnológico de la  clasificación  y reconocimiento de patrones en audios de eventos poco comunes, la mayor tendencia es hacia la implementación de sistemas donde se pueda hacer una adaptación de la señal para el clasificador, esta primera parte incluye la extracción de características como parte fundamental del proceso, los coeficientes de Mel son ampliamente utilizados en todos los trabajos referentes al análisis de patrones. Además las redes neuronales son acogidas como el algoritmo más usado a nivel mundial para tratar este tipo de problema, ya que provee muy buenos resultados como los mencionados anteriormente.   \n"
   ]
  },
  {
   "cell_type": "markdown",
   "metadata": {},
   "source": [
    "#### Marco Experimental \n",
    "\n",
    "##### Preguntas\n",
    "•\t¿Es conveniente pre procesar las señales que se van a utilizar para el clasificador?\n",
    "\n",
    "\n",
    "•\t¿Es conveniente quitar el ruido de las señales mediante filtros?\n",
    "\n",
    "\n",
    "•\t¿Si la frecuencia de los eventos explosiones y disparos es la misma, cual es la característica más apropiada para extraer?\n",
    "\n",
    "\n",
    "•\t¿Será posible con algoritmos de inteligencia computacional detectar en tiempo real explosiones y disparos?\n",
    "\n",
    "\n",
    "•\t¿El ruido afecta más a las redes neuronales o a la Máquina de Soporte Vectorial?\n",
    "\n",
    "\n",
    "•\t¿Entre máquina de soporte vectorial y red neuronal, que clasificador es más efectivo?\n",
    "\n",
    "##### Base de Datos \n",
    "El conjunto de base de datos consta de 599 grabaciones, estas grabaciones se dividen en  3 clases etiquetadas las cuales son; disparos, explosiones y sonidos ambientales con una distribución de 215,185 y 199 (grabaciones)  respectivamente.  Las clases de disparos y explosiones fueron construidos a partir de grabaciones disponibles de la página Freesound.org.[1]\n",
    "La clase de sonidos ambientales, fue obtenida con una grabadora Sony ICD-PX240, graba audio mp3, tiene audio estéreo y reduce el ruido ambiental (filtro de corte bajo), brindando una reproducción más clara.\n",
    "Las 3 clases de la base de datos etiquetados están equilibradas en sus grabaciones, para no tener mucho desbalance en los resultados, también a las 599 grabaciones fueron reconvertidas a un formato WAV y a una misma cantidad de bit, está decisión se tomó para tener las mismas condiciones para toda la base de datos.\n",
    "\n",
    "\n",
    "##### Pre procesamiento \n",
    "Para que la señal sea apta para la etapa de extracción de características y clasificación, es importante tener en cuenta varios aspectos:\n",
    "\n",
    "1.\tEl tipo de formato con el que se va trabajar para facilidad de manejo en el entorno de programación: los audios deben estar en .wav este formato es digital y no tiene compresión de datos, por lo que nos permitirá trabajar con los datos originales. \n",
    "\n",
    "2.\tEl formato .wav admite archivos mono y estéreo, sin embargo es mucho más fácil trabajar y analizar las señales en un solo canal. Por lo que se realiza un promedio entre ambos canales para trabajar con uno solo.\n",
    "\n",
    "3.\tNormalización de la señal: es importante estandarizar las señales con las que se va a trabajar, por esto las amplitudes estarán entre -1 y 1. \n",
    "\n",
    "4.\tSegmentación de la señal: es más fácil analizar una señal en tiempos cortos asociados a los milisegundos. Esto permite apreciar características y fenómenos que no se pueden observar en una señal completa. Todas las señales tendrán segmentos de 40ms con un solapamiento para evitar la pérdida de información.\n",
    "\n",
    "5.\tno se realizara ningún tipo de filtrado, pues el ruido asociado a los audios no representa ningún impedimento para la etapa de extracción de características.\n",
    "\n",
    "\n",
    "##### Características\n",
    "\n",
    "●\tCoeficientes cepstrales de Mel (MFCC): son coeficientes para la representación del habla, estos muestran características locales de la señal además de rasgos prosódicos como la entonación y ritmo.\n",
    "\n",
    "●\tBandas de Energía de Bark: Banda de frecuencias audibles (simulación del oído humano) por medio de filtros pasa bandas para separar el sonido en componentes de frecuencia. El oído divide la señal dependiendo de la frecuencia, y tienen un comportamiento logarítmico. Las bandas de Bark tienen un rango de 1-24 que corresponde a las bandas críticas del oído, estas escalas simulan la energía que está distribuida en cada una de las bandas.\n",
    "\n",
    "●\tFrecuencia Máxima: Análisis frecuencial ventana por ventana que nos permite observar cómo se comporta la frecuencia y en qué punto alcanza su máximo valor.\n"
   ]
  }
 ],
 "metadata": {
  "kernelspec": {
   "display_name": "Python 3",
   "language": "python",
   "name": "python3"
  },
  "language_info": {
   "codemirror_mode": {
    "name": "ipython",
    "version": 3
   },
   "file_extension": ".py",
   "mimetype": "text/x-python",
   "name": "python",
   "nbconvert_exporter": "python",
   "pygments_lexer": "ipython3",
   "version": "3.7.3"
  }
 },
 "nbformat": 4,
 "nbformat_minor": 2
}
